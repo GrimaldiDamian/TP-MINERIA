{
 "cells": [
  {
   "cell_type": "code",
   "execution_count": 1,
   "metadata": {
    "executionInfo": {
     "elapsed": 1668,
     "status": "ok",
     "timestamp": 1743033014044,
     "user": {
      "displayName": "Damian Daniel Grimaldi",
      "userId": "06330591939371791818"
     },
     "user_tz": 180
    },
    "id": "sUiWgBmQwXU1"
   },
   "outputs": [
    {
     "name": "stderr",
     "output_type": "stream",
     "text": [
      "c:\\Users\\Fachirex\\Desktop\\UNR\\TUIA\\4° cuatri\\MINERIA DE DATOS\\PRACTICA\\.venv\\Lib\\site-packages\\tqdm\\auto.py:21: TqdmWarning: IProgress not found. Please update jupyter and ipywidgets. See https://ipywidgets.readthedocs.io/en/stable/user_install.html\n",
      "  from .autonotebook import tqdm as notebook_tqdm\n"
     ]
    }
   ],
   "source": [
    "#Librerias\n",
    "\n",
    "import pandas as pd\n",
    "import numpy as np\n",
    "import matplotlib.pyplot as plt\n",
    "import matplotlib.colors as mcolors\n",
    "import seaborn as sns\n",
    "# import plotly.express as px\n",
    "\n",
    "from sklearn.preprocessing import StandardScaler\n",
    "from sklearn.decomposition import PCA\n",
    "from sklearn.manifold import Isomap, TSNE\n",
    "from umap import UMAP"
   ]
  },
  {
   "cell_type": "code",
   "execution_count": 17,
   "metadata": {
    "colab": {
     "base_uri": "https://localhost:8080/",
     "height": 424
    },
    "executionInfo": {
     "elapsed": 82,
     "status": "ok",
     "timestamp": 1743033014127,
     "user": {
      "displayName": "Damian Daniel Grimaldi",
      "userId": "06330591939371791818"
     },
     "user_tz": 180
    },
    "id": "RYYZmdBRwiMw",
    "outputId": "dad49593-46fc-4f48-99bb-2d3ccbb5b09f"
   },
   "outputs": [
    {
     "data": {
      "text/html": [
       "<div>\n",
       "<style scoped>\n",
       "    .dataframe tbody tr th:only-of-type {\n",
       "        vertical-align: middle;\n",
       "    }\n",
       "\n",
       "    .dataframe tbody tr th {\n",
       "        vertical-align: top;\n",
       "    }\n",
       "\n",
       "    .dataframe thead th {\n",
       "        text-align: right;\n",
       "    }\n",
       "</style>\n",
       "<table border=\"1\" class=\"dataframe\">\n",
       "  <thead>\n",
       "    <tr style=\"text-align: right;\">\n",
       "      <th></th>\n",
       "      <th>temperatura</th>\n",
       "      <th>humedad</th>\n",
       "      <th>aguaEnSuelo</th>\n",
       "      <th>tipoSuelo</th>\n",
       "      <th>tipoCultivo</th>\n",
       "      <th>nitrogeno</th>\n",
       "      <th>potasio</th>\n",
       "      <th>fosforo</th>\n",
       "      <th>nombreFertilizante</th>\n",
       "    </tr>\n",
       "  </thead>\n",
       "  <tbody>\n",
       "    <tr>\n",
       "      <th>0</th>\n",
       "      <td>26.00</td>\n",
       "      <td>52.00</td>\n",
       "      <td>38.00</td>\n",
       "      <td>Arenoso</td>\n",
       "      <td>Maiz</td>\n",
       "      <td>37</td>\n",
       "      <td>0</td>\n",
       "      <td>0</td>\n",
       "      <td>Urea</td>\n",
       "    </tr>\n",
       "    <tr>\n",
       "      <th>1</th>\n",
       "      <td>29.00</td>\n",
       "      <td>52.00</td>\n",
       "      <td>45.00</td>\n",
       "      <td>Franco</td>\n",
       "      <td>CañaAzucar</td>\n",
       "      <td>12</td>\n",
       "      <td>0</td>\n",
       "      <td>36</td>\n",
       "      <td>DAP</td>\n",
       "    </tr>\n",
       "    <tr>\n",
       "      <th>2</th>\n",
       "      <td>34.00</td>\n",
       "      <td>65.00</td>\n",
       "      <td>62.00</td>\n",
       "      <td>Negro</td>\n",
       "      <td>Algodon</td>\n",
       "      <td>7</td>\n",
       "      <td>9</td>\n",
       "      <td>30</td>\n",
       "      <td>14-35-14</td>\n",
       "    </tr>\n",
       "    <tr>\n",
       "      <th>3</th>\n",
       "      <td>32.00</td>\n",
       "      <td>62.00</td>\n",
       "      <td>34.00</td>\n",
       "      <td>Rojo</td>\n",
       "      <td>Tabaco</td>\n",
       "      <td>22</td>\n",
       "      <td>0</td>\n",
       "      <td>20</td>\n",
       "      <td>28-28</td>\n",
       "    </tr>\n",
       "    <tr>\n",
       "      <th>4</th>\n",
       "      <td>28.00</td>\n",
       "      <td>54.00</td>\n",
       "      <td>46.00</td>\n",
       "      <td>Arcilloso</td>\n",
       "      <td>Arrozal</td>\n",
       "      <td>35</td>\n",
       "      <td>0</td>\n",
       "      <td>0</td>\n",
       "      <td>Urea</td>\n",
       "    </tr>\n",
       "    <tr>\n",
       "      <th>...</th>\n",
       "      <td>...</td>\n",
       "      <td>...</td>\n",
       "      <td>...</td>\n",
       "      <td>...</td>\n",
       "      <td>...</td>\n",
       "      <td>...</td>\n",
       "      <td>...</td>\n",
       "      <td>...</td>\n",
       "      <td>...</td>\n",
       "    </tr>\n",
       "    <tr>\n",
       "      <th>7995</th>\n",
       "      <td>35.30</td>\n",
       "      <td>59.61</td>\n",
       "      <td>44.25</td>\n",
       "      <td>Franco</td>\n",
       "      <td>SemillasOleaginosas</td>\n",
       "      <td>10</td>\n",
       "      <td>14</td>\n",
       "      <td>10</td>\n",
       "      <td>Urea</td>\n",
       "    </tr>\n",
       "    <tr>\n",
       "      <th>7996</th>\n",
       "      <td>39.39</td>\n",
       "      <td>71.67</td>\n",
       "      <td>49.34</td>\n",
       "      <td>Negro</td>\n",
       "      <td>Cebada</td>\n",
       "      <td>35</td>\n",
       "      <td>0</td>\n",
       "      <td>0</td>\n",
       "      <td>10-26-26</td>\n",
       "    </tr>\n",
       "    <tr>\n",
       "      <th>7997</th>\n",
       "      <td>35.79</td>\n",
       "      <td>67.64</td>\n",
       "      <td>45.04</td>\n",
       "      <td>Rojo</td>\n",
       "      <td>Cebada</td>\n",
       "      <td>41</td>\n",
       "      <td>0</td>\n",
       "      <td>0</td>\n",
       "      <td>Urea</td>\n",
       "    </tr>\n",
       "    <tr>\n",
       "      <th>7998</th>\n",
       "      <td>37.78</td>\n",
       "      <td>73.38</td>\n",
       "      <td>36.03</td>\n",
       "      <td>Negro</td>\n",
       "      <td>Tabaco</td>\n",
       "      <td>10</td>\n",
       "      <td>3</td>\n",
       "      <td>30</td>\n",
       "      <td>DAP</td>\n",
       "    </tr>\n",
       "    <tr>\n",
       "      <th>7999</th>\n",
       "      <td>31.38</td>\n",
       "      <td>48.73</td>\n",
       "      <td>62.27</td>\n",
       "      <td>Franco</td>\n",
       "      <td>Mijo</td>\n",
       "      <td>11</td>\n",
       "      <td>2</td>\n",
       "      <td>33</td>\n",
       "      <td>28-28</td>\n",
       "    </tr>\n",
       "  </tbody>\n",
       "</table>\n",
       "<p>8000 rows × 9 columns</p>\n",
       "</div>"
      ],
      "text/plain": [
       "      temperatura  humedad  aguaEnSuelo  tipoSuelo          tipoCultivo  \\\n",
       "0           26.00    52.00        38.00    Arenoso                 Maiz   \n",
       "1           29.00    52.00        45.00     Franco           CañaAzucar   \n",
       "2           34.00    65.00        62.00      Negro              Algodon   \n",
       "3           32.00    62.00        34.00       Rojo               Tabaco   \n",
       "4           28.00    54.00        46.00  Arcilloso              Arrozal   \n",
       "...           ...      ...          ...        ...                  ...   \n",
       "7995        35.30    59.61        44.25     Franco  SemillasOleaginosas   \n",
       "7996        39.39    71.67        49.34      Negro               Cebada   \n",
       "7997        35.79    67.64        45.04       Rojo               Cebada   \n",
       "7998        37.78    73.38        36.03      Negro               Tabaco   \n",
       "7999        31.38    48.73        62.27     Franco                 Mijo   \n",
       "\n",
       "      nitrogeno  potasio  fosforo nombreFertilizante  \n",
       "0            37        0        0               Urea  \n",
       "1            12        0       36                DAP  \n",
       "2             7        9       30           14-35-14  \n",
       "3            22        0       20              28-28  \n",
       "4            35        0        0               Urea  \n",
       "...         ...      ...      ...                ...  \n",
       "7995         10       14       10               Urea  \n",
       "7996         35        0        0           10-26-26  \n",
       "7997         41        0        0               Urea  \n",
       "7998         10        3       30                DAP  \n",
       "7999         11        2       33              28-28  \n",
       "\n",
       "[8000 rows x 9 columns]"
      ]
     },
     "execution_count": 17,
     "metadata": {},
     "output_type": "execute_result"
    }
   ],
   "source": [
    "cultivos = pd.read_csv('dxCrop_Soil.csv')\n",
    "cultivos"
   ]
  },
  {
   "cell_type": "code",
   "execution_count": 3,
   "metadata": {
    "colab": {
     "base_uri": "https://localhost:8080/"
    },
    "executionInfo": {
     "elapsed": 16,
     "status": "ok",
     "timestamp": 1743033014150,
     "user": {
      "displayName": "Damian Daniel Grimaldi",
      "userId": "06330591939371791818"
     },
     "user_tz": 180
    },
    "id": "2hf-2Qm_xE9n",
    "outputId": "ca528ba2-13d3-46bf-9fa9-4fc34cc4ba16"
   },
   "outputs": [
    {
     "name": "stdout",
     "output_type": "stream",
     "text": [
      "<class 'pandas.core.frame.DataFrame'>\n",
      "RangeIndex: 8000 entries, 0 to 7999\n",
      "Data columns (total 9 columns):\n",
      " #   Column              Non-Null Count  Dtype  \n",
      "---  ------              --------------  -----  \n",
      " 0   temperatura         8000 non-null   float64\n",
      " 1   humedad             8000 non-null   float64\n",
      " 2   aguaEnSuelo         8000 non-null   float64\n",
      " 3   tipoSuelo           8000 non-null   object \n",
      " 4   tipoCultivo         8000 non-null   object \n",
      " 5   nitrogeno           8000 non-null   int64  \n",
      " 6   potasio             8000 non-null   int64  \n",
      " 7   fosforo             8000 non-null   int64  \n",
      " 8   nombreFertilizante  8000 non-null   object \n",
      "dtypes: float64(3), int64(3), object(3)\n",
      "memory usage: 562.6+ KB\n"
     ]
    }
   ],
   "source": [
    "cultivos.info()"
   ]
  },
  {
   "cell_type": "code",
   "execution_count": 4,
   "metadata": {
    "colab": {
     "base_uri": "https://localhost:8080/",
     "height": 335
    },
    "executionInfo": {
     "elapsed": 13,
     "status": "ok",
     "timestamp": 1743033014163,
     "user": {
      "displayName": "Damian Daniel Grimaldi",
      "userId": "06330591939371791818"
     },
     "user_tz": 180
    },
    "id": "LfdNFUA7yby_",
    "outputId": "14522b42-40dd-48ca-db67-dc87b4aa7837"
   },
   "outputs": [
    {
     "data": {
      "text/plain": [
       "temperatura           0\n",
       "humedad               0\n",
       "aguaEnSuelo           0\n",
       "tipoSuelo             0\n",
       "tipoCultivo           0\n",
       "nitrogeno             0\n",
       "potasio               0\n",
       "fosforo               0\n",
       "nombreFertilizante    0\n",
       "dtype: int64"
      ]
     },
     "execution_count": 4,
     "metadata": {},
     "output_type": "execute_result"
    }
   ],
   "source": [
    "cultivos.isna().sum() #no hay valores nulos."
   ]
  },
  {
   "cell_type": "code",
   "execution_count": 5,
   "metadata": {
    "colab": {
     "base_uri": "https://localhost:8080/",
     "height": 300
    },
    "executionInfo": {
     "elapsed": 33,
     "status": "ok",
     "timestamp": 1743034669524,
     "user": {
      "displayName": "Damian Daniel Grimaldi",
      "userId": "06330591939371791818"
     },
     "user_tz": 180
    },
    "id": "XTAEd0NByjqH",
    "outputId": "c07ef50a-1112-4bfb-9c26-b169e7a7e00d"
   },
   "outputs": [
    {
     "data": {
      "text/html": [
       "<div>\n",
       "<style scoped>\n",
       "    .dataframe tbody tr th:only-of-type {\n",
       "        vertical-align: middle;\n",
       "    }\n",
       "\n",
       "    .dataframe tbody tr th {\n",
       "        vertical-align: top;\n",
       "    }\n",
       "\n",
       "    .dataframe thead th {\n",
       "        text-align: right;\n",
       "    }\n",
       "</style>\n",
       "<table border=\"1\" class=\"dataframe\">\n",
       "  <thead>\n",
       "    <tr style=\"text-align: right;\">\n",
       "      <th></th>\n",
       "      <th>temperatura</th>\n",
       "      <th>humedad</th>\n",
       "      <th>aguaEnSuelo</th>\n",
       "      <th>nitrogeno</th>\n",
       "      <th>potasio</th>\n",
       "      <th>fosforo</th>\n",
       "    </tr>\n",
       "  </thead>\n",
       "  <tbody>\n",
       "    <tr>\n",
       "      <th>count</th>\n",
       "      <td>8000.000000</td>\n",
       "      <td>8000.000000</td>\n",
       "      <td>8000.000000</td>\n",
       "      <td>8000.000000</td>\n",
       "      <td>8000.000000</td>\n",
       "      <td>8000.000000</td>\n",
       "    </tr>\n",
       "    <tr>\n",
       "      <th>mean</th>\n",
       "      <td>30.338895</td>\n",
       "      <td>59.210731</td>\n",
       "      <td>43.580862</td>\n",
       "      <td>18.429125</td>\n",
       "      <td>3.916375</td>\n",
       "      <td>18.512500</td>\n",
       "    </tr>\n",
       "    <tr>\n",
       "      <th>std</th>\n",
       "      <td>4.478262</td>\n",
       "      <td>8.177366</td>\n",
       "      <td>12.596156</td>\n",
       "      <td>11.852406</td>\n",
       "      <td>5.494807</td>\n",
       "      <td>13.244113</td>\n",
       "    </tr>\n",
       "    <tr>\n",
       "      <th>min</th>\n",
       "      <td>20.000000</td>\n",
       "      <td>40.020000</td>\n",
       "      <td>20.000000</td>\n",
       "      <td>0.000000</td>\n",
       "      <td>0.000000</td>\n",
       "      <td>0.000000</td>\n",
       "    </tr>\n",
       "    <tr>\n",
       "      <th>25%</th>\n",
       "      <td>27.050000</td>\n",
       "      <td>53.277500</td>\n",
       "      <td>33.967500</td>\n",
       "      <td>9.000000</td>\n",
       "      <td>0.000000</td>\n",
       "      <td>8.000000</td>\n",
       "    </tr>\n",
       "    <tr>\n",
       "      <th>50%</th>\n",
       "      <td>30.240000</td>\n",
       "      <td>59.110000</td>\n",
       "      <td>42.250000</td>\n",
       "      <td>14.000000</td>\n",
       "      <td>1.000000</td>\n",
       "      <td>18.000000</td>\n",
       "    </tr>\n",
       "    <tr>\n",
       "      <th>75%</th>\n",
       "      <td>33.460000</td>\n",
       "      <td>65.082500</td>\n",
       "      <td>52.950000</td>\n",
       "      <td>26.000000</td>\n",
       "      <td>5.000000</td>\n",
       "      <td>30.000000</td>\n",
       "    </tr>\n",
       "    <tr>\n",
       "      <th>max</th>\n",
       "      <td>40.000000</td>\n",
       "      <td>80.000000</td>\n",
       "      <td>70.000000</td>\n",
       "      <td>46.000000</td>\n",
       "      <td>23.000000</td>\n",
       "      <td>46.000000</td>\n",
       "    </tr>\n",
       "  </tbody>\n",
       "</table>\n",
       "</div>"
      ],
      "text/plain": [
       "       temperatura      humedad  aguaEnSuelo    nitrogeno      potasio  \\\n",
       "count  8000.000000  8000.000000  8000.000000  8000.000000  8000.000000   \n",
       "mean     30.338895    59.210731    43.580862    18.429125     3.916375   \n",
       "std       4.478262     8.177366    12.596156    11.852406     5.494807   \n",
       "min      20.000000    40.020000    20.000000     0.000000     0.000000   \n",
       "25%      27.050000    53.277500    33.967500     9.000000     0.000000   \n",
       "50%      30.240000    59.110000    42.250000    14.000000     1.000000   \n",
       "75%      33.460000    65.082500    52.950000    26.000000     5.000000   \n",
       "max      40.000000    80.000000    70.000000    46.000000    23.000000   \n",
       "\n",
       "           fosforo  \n",
       "count  8000.000000  \n",
       "mean     18.512500  \n",
       "std      13.244113  \n",
       "min       0.000000  \n",
       "25%       8.000000  \n",
       "50%      18.000000  \n",
       "75%      30.000000  \n",
       "max      46.000000  "
      ]
     },
     "execution_count": 5,
     "metadata": {},
     "output_type": "execute_result"
    }
   ],
   "source": [
    "cultivos.describe()"
   ]
  },
  {
   "cell_type": "code",
   "execution_count": 24,
   "metadata": {},
   "outputs": [
    {
     "data": {
      "image/png": "[encoded data removed]",
      "text/plain": [
       "<Figure size 640x480 with 1 Axes>"
      ]
     },
     "metadata": {},
     "output_type": "display_data"
    }
   ],
   "source": [
    "sns.boxplot(data=cultivos, x = \"nitrogeno\", y = \"fosforo\")\n",
    "plt.title('Boxplot de Nitrogeno y Fosforo')\n",
    "plt.show()"
   ]
  },
  {
   "cell_type": "code",
   "execution_count": 22,
   "metadata": {},
   "outputs": [
    {
     "data": {
      "image/png": "[encoded data removed]",
      "text/plain": [
       "<Figure size 640x480 with 1 Axes>"
      ]
     },
     "metadata": {},
     "output_type": "display_data"
    }
   ],
   "source": [
    "# sns.boxplot(x=\"nitrogeno\", y = \"potasio\", data=cultivos)\n",
    "sns.boxplot(x=\"potasio\", y = \"nitrogeno\", data=cultivos)\n",
    "plt.title('Boxplot de Potasio vs Nitrogeno')\n",
    "plt.show()"
   ]
  },
  {
   "cell_type": "markdown",
   "metadata": {},
   "source": [
    "### Matriz de correlación"
   ]
  },
  {
   "cell_type": "code",
   "execution_count": 9,
   "metadata": {
    "colab": {
     "base_uri": "https://localhost:8080/",
     "height": 510
    },
    "executionInfo": {
     "elapsed": 349,
     "status": "ok",
     "timestamp": 1743033191244,
     "user": {
      "displayName": "Damian Daniel Grimaldi",
      "userId": "06330591939371791818"
     },
     "user_tz": 180
    },
    "id": "n6E2q9jm3eFX",
    "outputId": "4c014661-f1b6-4030-8b79-85737ce0ce82"
   },
   "outputs": [
    {
     "data": {
      "image/png": "[encoded data removed]",
      "text/plain": [
       "<Figure size 640x480 with 2 Axes>"
      ]
     },
     "metadata": {},
     "output_type": "display_data"
    }
   ],
   "source": [
    "# relaciones: nitrógeno y potasio, fosforo con nitrógeno\n",
    "cultivos_sub = cultivos.drop(['nombreFertilizante','tipoCultivo','tipoSuelo'], axis=1)\n",
    "corr = cultivos_sub.corr()\n",
    "ax = sns.heatmap(\n",
    "    corr,\n",
    "    vmin=-1, vmax=1, center=0,\n",
    "    cmap=sns.diverging_palette(20, 220, n=200),\n",
    "    square=True,\n",
    "    annot = True,\n",
    "    annot_kws = {'size': 6}\n",
    ")\n",
    "ax.set_xticklabels(\n",
    "    ax.get_xticklabels(),\n",
    "    rotation=45,\n",
    "    horizontalalignment='right'\n",
    ")\n",
    "plt.title('Matriz de correlación')\n",
    "plt.show()"
   ]
  }
 ],
 "metadata": {
  "colab": {
   "authorship_tag": "ABX9TyNB649dSWwRMBCEkaxqqZW8",
   "provenance": []
  },
  "kernelspec": {
   "display_name": ".venv",
   "language": "python",
   "name": "python3"
  },
  "language_info": {
   "codemirror_mode": {
    "name": "ipython",
    "version": 3
   },
   "file_extension": ".py",
   "mimetype": "text/x-python",
   "name": "python",
   "nbconvert_exporter": "python",
   "pygments_lexer": "ipython3",
   "version": "3.13.0"
  }
 },
 "nbformat": 4,
 "nbformat_minor": 0
}
